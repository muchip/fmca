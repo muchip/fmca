{
 "cells": [
  {
   "cell_type": "markdown",
   "id": "a6e0ff5d",
   "metadata": {},
   "source": [
    "# FMCA interface"
   ]
  },
  {
   "cell_type": "markdown",
   "id": "458357b6",
   "metadata": {},
   "source": [
    "### first import modules"
   ]
  },
  {
   "cell_type": "code",
   "execution_count": null,
   "id": "722f02a3",
   "metadata": {},
   "outputs": [],
   "source": [
    "# import seems necessary to not crash matplotlib\n",
    "import os\n",
    "os.environ[\"KMP_DUPLICATE_LIB_OK\"]=\"TRUE\"\n",
    "import matplotlib.pyplot as plt\n",
    "from mpl_toolkits.mplot3d import Axes3D\n",
    "import numpy as np\n",
    "from numpy import linalg as la\n",
    "import time\n",
    "import FMCA"
   ]
  },
  {
   "cell_type": "markdown",
   "id": "f2a0c32d",
   "metadata": {},
   "source": [
    "### generate data points and samplet tree\n",
    "(We force NumPy to use column major arrays for performance reasons)"
   ]
  },
  {
   "cell_type": "code",
   "execution_count": null,
   "id": "be9745cd",
   "metadata": {},
   "outputs": [],
   "source": [
    "dim = 2\n",
    "N = 20000\n",
    "dtilde = 1\n",
    "pts = np.array(10 * np.random.rand(dim, N), order='F')\n",
    "start = time.time()\n",
    "ST = FMCA.SampletTreeRP(pts, dtilde)\n",
    "stop = time.time()\n",
    "print('elapsed time samplet tree construction: ', stop - start, 'sec.')\n",
    "FMCA.sampletTreeStatistics(ST, pts)"
   ]
  },
  {
   "cell_type": "code",
   "execution_count": null,
   "id": "26441abe",
   "metadata": {
    "scrolled": true
   },
   "outputs": [],
   "source": [
    "data = np.exp(-4 * np.sqrt(pts[0,:]**2+pts[1,:]**2))\\\n",
    "      + np.exp(-2 * np.sqrt((pts[0,:]-4)**2+(pts[1,:]-7)**2))\\\n",
    "      + np.exp(-3 * np.sqrt((pts[0,:]-2)**2+(pts[1,:]-5)**2));"
   ]
  },
  {
   "cell_type": "code",
   "execution_count": null,
   "id": "a1f42e39-5c63-4c4c-9e4c-fb670d1f3107",
   "metadata": {},
   "outputs": [],
   "source": [
    "clusters = ST.adpativeTreeLeafPartition(data, 1e-4)\n",
    "plt.figure(figsize=(15,15))\n",
    "plt.scatter(pts[0,:], pts[1,:], c=clusters, marker='o', cmap='gnuplot')\n",
    "plt.scatter(pts[0,:], pts[1,:], c=data, marker='.', cmap='jet', alpha=0.5)\n",
    "plt.show()"
   ]
  },
  {
   "cell_type": "code",
   "execution_count": null,
   "id": "dff66e21-8be4-497c-bedb-b720caf8be82",
   "metadata": {},
   "outputs": [],
   "source": [
    "idcs = ST.level_labels(0);\n",
    "plt.figure(figsize=(15,15))\n",
    "plt.scatter(pts[0,:], pts[1,:], c=idcs, marker='.', cmap='gnuplot')\n",
    "plt.show()\n",
    "print(np.min(idcs),np.max(idcs))"
   ]
  }
 ],
 "metadata": {
  "kernelspec": {
   "display_name": "Python 3 (ipykernel)",
   "language": "python",
   "name": "python3"
  },
  "language_info": {
   "codemirror_mode": {
    "name": "ipython",
    "version": 3
   },
   "file_extension": ".py",
   "mimetype": "text/x-python",
   "name": "python",
   "nbconvert_exporter": "python",
   "pygments_lexer": "ipython3",
   "version": "3.12.3"
  }
 },
 "nbformat": 4,
 "nbformat_minor": 5
}
