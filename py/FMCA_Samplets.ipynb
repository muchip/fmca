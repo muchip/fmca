{
 "cells": [
  {
   "cell_type": "markdown",
   "id": "a6e0ff5d",
   "metadata": {},
   "source": [
    "# FMCA interface"
   ]
  },
  {
   "cell_type": "markdown",
   "id": "458357b6",
   "metadata": {},
   "source": [
    "### first import modules"
   ]
  },
  {
   "cell_type": "code",
   "execution_count": null,
   "id": "722f02a3",
   "metadata": {},
   "outputs": [],
   "source": [
    "# import seems necessary to not crash matplotlib\n",
    "import os\n",
    "os.environ[\"KMP_DUPLICATE_LIB_OK\"]=\"TRUE\"\n",
    "import matplotlib.pyplot as plt\n",
    "from mpl_toolkits.mplot3d import Axes3D\n",
    "import numpy as np\n",
    "from numpy import linalg as la\n",
    "import time\n",
    "import FMCA"
   ]
  },
  {
   "cell_type": "markdown",
   "id": "f2a0c32d",
   "metadata": {},
   "source": [
    "### generate data points and samplet tree\n",
    "(We force NumPy to use column major arrays for performance reasons)"
   ]
  },
  {
   "cell_type": "code",
   "execution_count": null,
   "id": "be9745cd",
   "metadata": {},
   "outputs": [],
   "source": [
    "dim = 2\n",
    "N = 10000\n",
    "dtilde = 3\n",
    "pts = np.array(np.random.randn(dim, N), order='F')\n",
    "start = time.time()\n",
    "ST = FMCA.SampletTree(pts, dtilde)\n",
    "stop = time.time()\n",
    "print('elapsed time samplet tree construction: ', stop - start, 'sec.')\n",
    "FMCA.sampletTreeStatistics(ST, pts)\n",
    "# reorder points according to samplet tree order\n",
    "spts = pts[:, ST.indices()]"
   ]
  },
  {
   "cell_type": "markdown",
   "id": "4b703674",
   "metadata": {},
   "source": [
    "### transform a given set of data vectors into samplet basis and back\n",
    "(We force NumPy to use column major arrays for performance reasons)"
   ]
  },
  {
   "cell_type": "code",
   "execution_count": null,
   "id": "26441abe",
   "metadata": {
    "scrolled": true
   },
   "outputs": [],
   "source": [
    "start = time.time()\n",
    "data = 2 * np.array(np.random.rand(N,10), order='F') - 1\n",
    "Tdata = FMCA.sampletTransform(ST, data)\n",
    "data2 = FMCA.inverseSampletTransform(ST, Tdata)\n",
    "stop = time.time()\n",
    "print('elapsed time forward and backward transform: ', stop - start, 'sec.')\n",
    "print('relative error: ', la.norm(data - data2) / la.norm(data))"
   ]
  },
  {
   "cell_type": "markdown",
   "id": "fb047172",
   "metadata": {},
   "source": [
    "### plot a samplet\n",
    "(Basis elements can be retrieved by inverse transforming unit vectors)"
   ]
  },
  {
   "cell_type": "code",
   "execution_count": null,
   "id": "eb62e893",
   "metadata": {},
   "outputs": [],
   "source": [
    "unit = np.array(np.zeros(N), order='F');\n",
    "unit[22] = 1\n",
    "Tunit = FMCA.inverseSampletTransform(ST, unit)\n",
    "plt.figure(figsize=(8,8))\n",
    "ax = plt.axes(projection='3d')\n",
    "ax.scatter(spts[0,:], spts[1,:], Tunit[:,0], c=Tunit[:,0], marker='.', cmap='turbo')\n",
    "plt.show()"
   ]
  },
  {
   "cell_type": "markdown",
   "id": "b327bc40",
   "metadata": {},
   "source": [
    "### transform a random signal into the samplet basis\n",
    "(Basis elements can be retrieved by inverse transforming unit vectors)"
   ]
  },
  {
   "cell_type": "code",
   "execution_count": null,
   "id": "eb029268",
   "metadata": {},
   "outputs": [],
   "source": [
    "dim = 1\n",
    "N = 300000\n",
    "dtilde = 6\n",
    "pts = 2 * np.pi * np.array(np.random.rand(dim, N), order='F')\n",
    "ST = FMCA.SampletTree(pts, dtilde)\n",
    "FMCA.sampletTreeStatistics(ST, pts)\n",
    "# reorder points according to samplet tree order and make it an array\n",
    "spts = pts[:, ST.indices()].flatten()"
   ]
  },
  {
   "cell_type": "code",
   "execution_count": null,
   "id": "61670428",
   "metadata": {},
   "outputs": [],
   "source": [
    "data = np.sin(10 * spts) * np.cos(2 * spts) + 0.2 * np.sin(80 * spts) * np.cos(12 * spts)\n",
    "plt.figure(figsize=(15,5))\n",
    "plt.plot(spts,data)\n",
    "plt.axis('tight')\n",
    "plt.title('signal sampled at 100000 random pts')\n",
    "plt.show()"
   ]
  },
  {
   "cell_type": "code",
   "execution_count": null,
   "id": "50775813",
   "metadata": {},
   "outputs": [],
   "source": [
    "Tdata = FMCA.sampletTransform(ST, data)\n",
    "plt.figure(figsize=(15,5))\n",
    "plt.plot(Tdata[0:500])\n",
    "plt.axis('tight')\n",
    "plt.title('first 500 samplet coefficients')\n",
    "plt.show()"
   ]
  },
  {
   "cell_type": "code",
   "execution_count": null,
   "id": "dd235925",
   "metadata": {},
   "outputs": [],
   "source": [
    "dim = 2\n",
    "N = 100000\n",
    "dtilde = 14\n",
    "pts = 2 * np.pi * np.array(np.random.rand(dim, N), order='F')\n",
    "start = time.time()\n",
    "ST = FMCA.SampletTree(pts, dtilde)\n",
    "stop = time.time()\n",
    "print('time tree setup:  ', stop - start, 'sec.')\n",
    "cov = FMCA.CovarianceKernel(\"GAUSSIAN\", 2)\n",
    "start = time.time()\n",
    "SKC = FMCA.SampletKernelCompressor(ST, cov, pts, 0.8, 1e-6)\n",
    "stop = time.time()\n",
    "print('time kernel compression:  ', stop - start, 'sec.')"
   ]
  },
  {
   "cell_type": "code",
   "execution_count": null,
   "id": "2ddcb10e",
   "metadata": {},
   "outputs": [],
   "source": [
    "import scipy\n",
    "K = SKC.matrix()\n",
    "plt.spy(K, markersize=1)\n",
    "plt.show() \n",
    "plt.imshow(np.log(np.abs((K[:2000,:2000]).todense()+1e-16)))\n",
    "plt.show()"
   ]
  },
  {
   "cell_type": "code",
   "execution_count": null,
   "id": "bec61eac",
   "metadata": {},
   "outputs": [],
   "source": [
    "plt.semilogy(np.sort(K.diagonal()))\n",
    "plt.show()\n",
    "print(np.min(K.diagonal()))"
   ]
  }
 ],
 "metadata": {
  "kernelspec": {
   "display_name": "Python 3 (ipykernel)",
   "language": "python",
   "name": "python3"
  },
  "language_info": {
   "codemirror_mode": {
    "name": "ipython",
    "version": 3
   },
   "file_extension": ".py",
   "mimetype": "text/x-python",
   "name": "python",
   "nbconvert_exporter": "python",
   "pygments_lexer": "ipython3",
   "version": "3.10.6"
  }
 },
 "nbformat": 4,
 "nbformat_minor": 5
}
