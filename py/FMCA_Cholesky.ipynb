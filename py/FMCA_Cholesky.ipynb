{
 "cells": [
  {
   "cell_type": "markdown",
   "id": "a6e0ff5d",
   "metadata": {},
   "source": [
    "# FMCA interface"
   ]
  },
  {
   "cell_type": "markdown",
   "id": "458357b6",
   "metadata": {},
   "source": [
    "### first import modules"
   ]
  },
  {
   "cell_type": "code",
   "execution_count": null,
   "id": "722f02a3",
   "metadata": {},
   "outputs": [],
   "source": [
    "# import seems necessary to not crash matplotlib\n",
    "import os\n",
    "os.environ[\"KMP_DUPLICATE_LIB_OK\"]=\"TRUE\"\n",
    "import matplotlib.pyplot as plt\n",
    "from mpl_toolkits.mplot3d import Axes3D\n",
    "import numpy as np\n",
    "from numpy import linalg as la\n",
    "import time\n",
    "import FMCA"
   ]
  },
  {
   "cell_type": "code",
   "execution_count": null,
   "id": "b868c517",
   "metadata": {},
   "outputs": [],
   "source": [
    "dim = 2\n",
    "N = 1000\n",
    "cov = FMCA.CovarianceKernel(\"exponential\", 2)\n",
    "pts = np.array(np.random.randn(dim, N), order='F')"
   ]
  },
  {
   "cell_type": "code",
   "execution_count": null,
   "id": "f9fba871",
   "metadata": {},
   "outputs": [],
   "source": [
    "Chol = FMCA.PivotedCholesky(cov, pts, 1e-1)\n",
    "L = Chol.matrixL()\n",
    "Chol.computeFullPiv(cov, pts, 1e-1)\n",
    "L2 = Chol.matrixL()"
   ]
  },
  {
   "cell_type": "code",
   "execution_count": null,
   "id": "8e1d7722",
   "metadata": {},
   "outputs": [],
   "source": [
    "K = cov.eval(pts,pts)\n",
    "Keps = np.matmul(L, L.transpose())\n",
    "Keps2 = np.matmul(L2, L2.transpose())\n",
    "print(np.linalg.norm(K - Keps) / np.linalg.norm(K))\n",
    "print(np.linalg.norm(K - Keps2) / np.linalg.norm(K))"
   ]
  },
  {
   "cell_type": "code",
   "execution_count": null,
   "id": "619489d4",
   "metadata": {},
   "outputs": [],
   "source": []
  }
 ],
 "metadata": {
  "kernelspec": {
   "display_name": "Python 3 (ipykernel)",
   "language": "python",
   "name": "python3"
  },
  "language_info": {
   "codemirror_mode": {
    "name": "ipython",
    "version": 3
   },
   "file_extension": ".py",
   "mimetype": "text/x-python",
   "name": "python",
   "nbconvert_exporter": "python",
   "pygments_lexer": "ipython3",
   "version": "3.9.13"
  }
 },
 "nbformat": 4,
 "nbformat_minor": 5
}
