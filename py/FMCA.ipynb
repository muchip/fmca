{
 "cells": [
  {
   "cell_type": "code",
   "execution_count": 4,
   "id": "4b77d43f",
   "metadata": {},
   "outputs": [
    {
     "name": "stdout",
     "output_type": "stream",
     "text": [
      "Help on module FMCA:\n",
      "\n",
      "NAME\n",
      "    FMCA - pybind11 FMCA plugin\n",
      "\n",
      "CLASSES\n",
      "    pybind11_builtins.pybind11_object(builtins.object)\n",
      "        ClusterTree\n",
      "    \n",
      "    class ClusterTree(pybind11_builtins.pybind11_object)\n",
      "     |  Method resolution order:\n",
      "     |      ClusterTree\n",
      "     |      pybind11_builtins.pybind11_object\n",
      "     |      builtins.object\n",
      "     |  \n",
      "     |  Methods defined here:\n",
      "     |  \n",
      "     |  __init__(...)\n",
      "     |      __init__(*args, **kwargs)\n",
      "     |      Overloaded function.\n",
      "     |      \n",
      "     |      1. __init__(self: FMCA.ClusterTree) -> None\n",
      "     |      \n",
      "     |      2. __init__(self: FMCA.ClusterTree, arg0: numpy.ndarray[numpy.float64[m, n]], arg1: int) -> None\n",
      "     |  \n",
      "     |  ----------------------------------------------------------------------\n",
      "     |  Static methods inherited from pybind11_builtins.pybind11_object:\n",
      "     |  \n",
      "     |  __new__(*args, **kwargs) from pybind11_builtins.pybind11_type\n",
      "     |      Create and return a new object.  See help(type) for accurate signature.\n",
      "\n",
      "FUNCTIONS\n",
      "    clusterTreeStatistics(...) method of builtins.PyCapsule instance\n",
      "        clusterTreeStatistics(arg0: FMCA.ClusterTree, arg1: numpy.ndarray[numpy.float64[m, n]]) -> None\n",
      "        \n",
      "        Displays metrics of a cluster tree\n",
      "\n",
      "FILE\n",
      "    /Users/mmulterer/Desktop/Repos/github/fmca/py/FMCA.cpython-39-darwin.so\n",
      "\n",
      "\n"
     ]
    }
   ],
   "source": [
    "import numpy as np\n",
    "import FMCA\n",
    "help(FMCA)"
   ]
  },
  {
   "cell_type": "code",
   "execution_count": 15,
   "id": "26441abe",
   "metadata": {},
   "outputs": [
    {
     "name": "stdout",
     "output_type": "stream",
     "text": [
      "[-0.999996382908499, 0.9999445770731457]\n",
      "------------------- Cluster tree metrics -------------------\n",
      "dimension:                10\n",
      "number of points:         10000\n",
      "cluster splitting method: CardinalityBisection\n",
      "bounding box diameter:    6.32e+00\n",
      "number of clusters:       1567\n",
      "fill distance:            1.25e+00\n",
      "separation radius:        1.38e-01\n",
      "min cluster discrepancy:  9.05e-06\n",
      "max cluster discrepancy:  6.88e-03\n",
      "mean cluster discrepancy: 1.26e-03\n",
      "pt. mindist distribution: \n",
      " 8.96e-03|*\n",
      " 2.69e-02|*\n",
      " 4.48e-02|**\n",
      " 6.27e-02|****\n",
      " 8.06e-02|*********\n",
      " 9.85e-02|******************\n",
      " 1.16e-01|*****************************\n",
      " 1.34e-01|****************************************\n",
      " 1.52e-01|**************************************\n",
      " 1.70e-01|************************\n",
      " 1.88e-01|***********\n",
      " 2.06e-01|*****\n",
      " 2.24e-01|**\n",
      " 2.42e-01|*\n",
      " 2.60e-01|*\n",
      "discrepancy distribution: \n",
      " 1.13e-05|*\n",
      " 1.76e-05|*\n",
      " 2.73e-05|\n",
      " 4.25e-05|*\n",
      " 6.62e-05|*\n",
      " 1.03e-04|*\n",
      " 1.60e-04|*\n",
      " 2.49e-04|*\n",
      " 3.88e-04|**\n",
      " 6.04e-04|******\n",
      " 9.40e-04|****************************************\n",
      " 1.46e-03|***************************\n",
      " 2.28e-03|********\n",
      " 3.54e-03|***\n",
      " 5.51e-03|*\n",
      "------------------------------------------------------------\n"
     ]
    }
   ],
   "source": [
    "A = 2 * np.array(np.random.rand(10,10000), order='F') - 1\n",
    "print([A.min(), A.max()])\n",
    "CT = FMCA.ClusterTree(A, 10)\n",
    "FMCA.clusterTreeStatistics(CT, A)"
   ]
  },
  {
   "cell_type": "code",
   "execution_count": null,
   "id": "eb62e893",
   "metadata": {},
   "outputs": [],
   "source": []
  }
 ],
 "metadata": {
  "kernelspec": {
   "display_name": "Python 3 (ipykernel)",
   "language": "python",
   "name": "python3"
  },
  "language_info": {
   "codemirror_mode": {
    "name": "ipython",
    "version": 3
   },
   "file_extension": ".py",
   "mimetype": "text/x-python",
   "name": "python",
   "nbconvert_exporter": "python",
   "pygments_lexer": "ipython3",
   "version": "3.9.10"
  }
 },
 "nbformat": 4,
 "nbformat_minor": 5
}
