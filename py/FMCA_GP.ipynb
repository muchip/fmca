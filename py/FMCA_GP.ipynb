{
 "cells": [
  {
   "cell_type": "markdown",
   "id": "a6e0ff5d",
   "metadata": {},
   "source": [
    "# FMCA Gaussian process learning"
   ]
  },
  {
   "cell_type": "markdown",
   "id": "458357b6",
   "metadata": {},
   "source": [
    "### first import modules"
   ]
  },
  {
   "cell_type": "code",
   "execution_count": null,
   "id": "722f02a3",
   "metadata": {},
   "outputs": [],
   "source": [
    "# import seems necessary to not crash matplotlib\n",
    "import os\n",
    "os.environ[\"KMP_DUPLICATE_LIB_OK\"]=\"TRUE\"\n",
    "import matplotlib.pyplot as plt\n",
    "import numpy as np\n",
    "from numpy import linalg as la\n",
    "import time\n",
    "import FMCA"
   ]
  },
  {
   "cell_type": "markdown",
   "id": "f2a0c32d",
   "metadata": {},
   "source": [
    "### generate data points and visualize them\n",
    "(We force NumPy to use column major arrays for performance reasons)"
   ]
  },
  {
   "cell_type": "code",
   "execution_count": null,
   "id": "be9745cd",
   "metadata": {},
   "outputs": [],
   "source": [
    "dim = 1\n",
    "N = 100\n",
    "x = 2 * np.array(np.random.rand(1, N), order='F') - 1\n",
    "y = np.sin(10 * x) * np.cos(20 * x) + (x+1)**2 + 0.05 * np.random.randn(1, N)\n",
    "plt.figure(figsize=(15,5))\n",
    "plt.plot(x, y, 'b.')\n",
    "plt.show()"
   ]
  },
  {
   "cell_type": "markdown",
   "id": "4b703674",
   "metadata": {},
   "source": [
    "### compute a lowrank approximation to the kernel matrix\n",
    "(We force NumPy to use column major arrays for performance reasons)"
   ]
  },
  {
   "cell_type": "code",
   "execution_count": null,
   "id": "26441abe",
   "metadata": {
    "scrolled": true
   },
   "outputs": [],
   "source": [
    "start = time.time()\n",
    "cov = FMCA.CovarianceKernel(\"gaussian\", 0.01)\n",
    "Chol = FMCA.PivotedCholesky()\n",
    "Chol.computeFullPiv(cov, x, 1e-2)\n",
    "L = Chol.matrixL()\n",
    "stop = time.time()\n",
    "print('elapsed time lowrank: ', stop - start, 'sec.')"
   ]
  },
  {
   "cell_type": "markdown",
   "id": "fb047172",
   "metadata": {},
   "source": [
    "### compute representer using the pseudo inverse of the Cholesky factor\n",
    "(Basis elements can be retrieved by inverse transforming unit vectors)"
   ]
  },
  {
   "cell_type": "code",
   "execution_count": null,
   "id": "eb62e893",
   "metadata": {},
   "outputs": [],
   "source": [
    "LTL = L.transpose() @ L\n",
    "LTy = (y @ L).transpose()\n",
    "z = np.linalg.solve(LTL, LTy)\n",
    "mu = L @ np.linalg.solve(LTL, z)"
   ]
  },
  {
   "cell_type": "markdown",
   "id": "7863008a",
   "metadata": {},
   "source": [
    "### visualize rerpresenter"
   ]
  },
  {
   "cell_type": "code",
   "execution_count": null,
   "id": "cc092865",
   "metadata": {},
   "outputs": [],
   "source": [
    "M = 2000;\n",
    "xeval = np.reshape(np.linspace(-1, 1, M), (1, M), order='F')\n",
    "Keval = cov.eval(xeval, x)\n",
    "# compute posterior covariance\n",
    "LTKevalT = (Keval @ L).transpose()\n",
    "z = np.linalg.solve(LTL, LTKevalT)\n",
    "S = LTKevalT.transpose() @ np.linalg.solve(LTL, z)\n",
    "post_var = np.reshape((cov.eval(xeval, xeval)-S).diagonal(), (1, M), order='F')\n",
    "std = np.sqrt(np.maximum(post_var, 0))\n",
    "mu_eval = (Keval @ mu).transpose();\n",
    "# plot everything\n",
    "plt.figure(figsize=(15,5))\n",
    "plt.fill_between(xeval[0,:], (mu_eval-3*std)[0,:], (mu_eval+3*std)[0,:], color='green', alpha=0.3)\n",
    "plt.plot(x, y, 'bo', markersize=4)\n",
    "plt.plot(xeval[0,:], mu_eval[0,:],'r')\n",
    "plt.show()"
   ]
  }
 ],
 "metadata": {
  "kernelspec": {
   "display_name": "Python 3 (ipykernel)",
   "language": "python",
   "name": "python3"
  },
  "language_info": {
   "codemirror_mode": {
    "name": "ipython",
    "version": 3
   },
   "file_extension": ".py",
   "mimetype": "text/x-python",
   "name": "python",
   "nbconvert_exporter": "python",
   "pygments_lexer": "ipython3",
   "version": "3.9.13"
  }
 },
 "nbformat": 4,
 "nbformat_minor": 5
}
