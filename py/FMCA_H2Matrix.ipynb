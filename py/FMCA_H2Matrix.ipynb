{
 "cells": [
  {
   "cell_type": "markdown",
   "id": "a6e0ff5d",
   "metadata": {},
   "source": [
    "# FMCA interface"
   ]
  },
  {
   "cell_type": "markdown",
   "id": "458357b6",
   "metadata": {},
   "source": [
    "### first import modules"
   ]
  },
  {
   "cell_type": "code",
   "execution_count": null,
   "id": "722f02a3",
   "metadata": {},
   "outputs": [],
   "source": [
    "# import seems necessary to not crash matplotlib\n",
    "import os\n",
    "os.environ[\"KMP_DUPLICATE_LIB_OK\"]=\"TRUE\"\n",
    "import matplotlib.pyplot as plt\n",
    "from mpl_toolkits.mplot3d import Axes3D\n",
    "import numpy as np\n",
    "from numpy import linalg as la\n",
    "import time\n",
    "import FMCA"
   ]
  },
  {
   "cell_type": "code",
   "execution_count": null,
   "id": "b868c517",
   "metadata": {},
   "outputs": [],
   "source": [
    "dim = 2\n",
    "N = 100000\n",
    "cov = FMCA.CovarianceKernel(\"exponential\", 10)\n",
    "pts = np.array(np.random.rand(dim, N), order='F')\n",
    "e1 = np.zeros((N, 1), order='F')\n",
    "e1[0,0] = 1"
   ]
  },
  {
   "cell_type": "code",
   "execution_count": null,
   "id": "619489d4",
   "metadata": {},
   "outputs": [],
   "source": [
    "start = time.time()\n",
    "H2 = FMCA.H2Matrix(cov, pts, pts, 3, 0.8)\n",
    "stop = time.time()\n",
    "print('elapsed H2Matrix computation: ', stop - start, 'sec.')"
   ]
  },
  {
   "cell_type": "code",
   "execution_count": null,
   "id": "44733276",
   "metadata": {},
   "outputs": [],
   "source": [
    "data = H2.statistics()"
   ]
  },
  {
   "cell_type": "code",
   "execution_count": null,
   "id": "9bbbdc61",
   "metadata": {},
   "outputs": [],
   "source": [
    "start = time.time()\n",
    "KH2 = H2.action(e1)\n",
    "stop = time.time()\n",
    "print('elapsed H2Matrix action: ', stop - start, 'sec.')"
   ]
  },
  {
   "cell_type": "code",
   "execution_count": null,
   "id": "281d7db6",
   "metadata": {},
   "outputs": [],
   "source": [
    "K = cov.eval(pts,pts[:,0])\n",
    "la.norm(K-KH2) / la.norm(K)"
   ]
  }
 ],
 "metadata": {
  "kernelspec": {
   "display_name": "Python 3 (ipykernel)",
   "language": "python",
   "name": "python3"
  },
  "language_info": {
   "codemirror_mode": {
    "name": "ipython",
    "version": 3
   },
   "file_extension": ".py",
   "mimetype": "text/x-python",
   "name": "python",
   "nbconvert_exporter": "python",
   "pygments_lexer": "ipython3",
   "version": "3.10.6"
  }
 },
 "nbformat": 4,
 "nbformat_minor": 5
}
