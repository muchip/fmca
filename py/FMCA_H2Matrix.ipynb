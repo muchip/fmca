{
 "cells": [
  {
   "cell_type": "markdown",
   "id": "a6e0ff5d",
   "metadata": {},
   "source": [
    "# FMCA interface"
   ]
  },
  {
   "cell_type": "markdown",
   "id": "458357b6",
   "metadata": {},
   "source": [
    "### first import modules"
   ]
  },
  {
   "cell_type": "code",
   "execution_count": 1,
   "id": "722f02a3",
   "metadata": {},
   "outputs": [],
   "source": [
    "# import seems necessary to not crash matplotlib\n",
    "import os\n",
    "os.environ[\"KMP_DUPLICATE_LIB_OK\"]=\"TRUE\"\n",
    "import matplotlib.pyplot as plt\n",
    "from mpl_toolkits.mplot3d import Axes3D\n",
    "import numpy as np\n",
    "from numpy import linalg as la\n",
    "import time\n",
    "import FMCA"
   ]
  },
  {
   "cell_type": "code",
   "execution_count": 2,
   "id": "b868c517",
   "metadata": {},
   "outputs": [],
   "source": [
    "dim = 2\n",
    "N = 1000000\n",
    "cov = FMCA.CovarianceKernel(\"exponential\", 2)\n",
    "pts = np.array(np.random.randn(dim, N), order='F')"
   ]
  },
  {
   "cell_type": "code",
   "execution_count": 3,
   "id": "619489d4",
   "metadata": {},
   "outputs": [],
   "source": [
    "H2 = FMCA.H2Matrix()"
   ]
  },
  {
   "cell_type": "code",
   "execution_count": 4,
   "id": "4d8f48c8",
   "metadata": {},
   "outputs": [
    {
     "name": "stdout",
     "output_type": "stream",
     "text": [
      "elapsed H2Matrix computation:  9.800995826721191 sec.\n"
     ]
    }
   ],
   "source": [
    "start = time.time()\n",
    "H2.compute(cov, pts, 3, 0.8)\n",
    "stop = time.time()\n",
    "print('elapsed H2Matrix computation: ', stop - start, 'sec.')"
   ]
  },
  {
   "cell_type": "code",
   "execution_count": 5,
   "id": "44733276",
   "metadata": {},
   "outputs": [
    {
     "name": "stdout",
     "output_type": "stream",
     "text": [
      "matrix size:                  1000000 x 1000000\n",
      "number of low rank blocks:    1411022\n",
      "number of full blocks:        561218\n",
      "nz per row:                   884\n",
      "storage size:                 7.07243GB\n"
     ]
    }
   ],
   "source": [
    "data = H2.statistics()"
   ]
  },
  {
   "cell_type": "code",
   "execution_count": null,
   "id": "9bbbdc61",
   "metadata": {},
   "outputs": [],
   "source": []
  }
 ],
 "metadata": {
  "kernelspec": {
   "display_name": "Python 3 (ipykernel)",
   "language": "python",
   "name": "python3"
  },
  "language_info": {
   "codemirror_mode": {
    "name": "ipython",
    "version": 3
   },
   "file_extension": ".py",
   "mimetype": "text/x-python",
   "name": "python",
   "nbconvert_exporter": "python",
   "pygments_lexer": "ipython3",
   "version": "3.10.6"
  }
 },
 "nbformat": 4,
 "nbformat_minor": 5
}
